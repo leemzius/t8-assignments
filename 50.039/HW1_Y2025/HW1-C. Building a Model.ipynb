{
  "cells": [
    {
      "cell_type": "markdown",
      "id": "a1afe191-5213-431c-8f47-a0502c1670c5",
      "metadata": {
        "id": "a1afe191-5213-431c-8f47-a0502c1670c5"
      },
      "source": [
        "# HW1-C. Building a Model\n",
        "\n",
        "## About this notebook\n",
        "\n",
        "This notebook was used in the 50.039 Deep Learning course at the Singapore University of Technology and Design.\n",
        "\n",
        "**Author:** Matthieu DE MARI (matthieu_demari@sutd.edu.sg)\n",
        "\n",
        "**Version:** 1.0 (01/02/2025)\n",
        "\n",
        "**Requirements:**\n",
        "- Python 3\n",
        "- Matplotlib\n",
        "- Numpy\n",
        "- Pandas\n",
        "- Torch\n",
        "- Torchmetrics"
      ]
    },
    {
      "cell_type": "markdown",
      "id": "1d9dd5db-658b-4b9c-8e8b-25f6710a791b",
      "metadata": {
        "id": "1d9dd5db-658b-4b9c-8e8b-25f6710a791b"
      },
      "source": [
        "## 0. Imports and CUDA"
      ]
    },
    {
      "cell_type": "code",
      "execution_count": 100,
      "id": "ZGieVF3T3nBa",
      "metadata": {
        "id": "ZGieVF3T3nBa"
      },
      "outputs": [],
      "source": [
        "%%capture\n",
        "! pip install torchmetrics"
      ]
    },
    {
      "cell_type": "code",
      "execution_count": 101,
      "id": "c4599aff-3fcc-42ef-b3c1-512ac2ed80dc",
      "metadata": {
        "id": "c4599aff-3fcc-42ef-b3c1-512ac2ed80dc"
      },
      "outputs": [],
      "source": [
        "# Matplotlib\n",
        "import matplotlib.pyplot as plt\n",
        "from matplotlib.lines import Line2D\n",
        "# Numpy\n",
        "import numpy as np\n",
        "# Pandas\n",
        "import pandas as pd\n",
        "# Torch\n",
        "import torch\n",
        "import torch.nn as nn\n",
        "from torch.utils.data import Dataset, DataLoader\n",
        "from torchmetrics.classification import BinaryAccuracy\n",
        "# Helper functions (additional file)\n",
        "from helper_functions import *\n",
        "#from hidden_functions import *"
      ]
    },
    {
      "cell_type": "code",
      "execution_count": 102,
      "id": "4604b237-ac58-4c0d-a041-1dcb704972e9",
      "metadata": {
        "colab": {
          "base_uri": "https://localhost:8080/"
        },
        "id": "4604b237-ac58-4c0d-a041-1dcb704972e9",
        "outputId": "dfe6f563-aece-4430-b079-0dc41cddc2ce"
      },
      "outputs": [
        {
          "name": "stdout",
          "output_type": "stream",
          "text": [
            "cpu\n"
          ]
        }
      ],
      "source": [
        "# Use GPU if available, else use CPU\n",
        "device = torch.device(\"cuda\" if torch.cuda.is_available() else \"cpu\")\n",
        "print(device)"
      ]
    },
    {
      "cell_type": "markdown",
      "id": "143a049e-ea5a-43db-afac-b32600d0bb57",
      "metadata": {
        "id": "143a049e-ea5a-43db-afac-b32600d0bb57"
      },
      "source": [
        "## 0. Before we start\n",
        "\n",
        "Please copy-paste the Notebook 1-A and Notebook 1-B codes for your *CustomDataset* and *WeirdLayer* classes below."
      ]
    },
    {
      "cell_type": "code",
      "execution_count": null,
      "id": "mtPA3uqG3mah",
      "metadata": {
        "id": "mtPA3uqG3mah"
      },
      "outputs": [],
      "source": []
    },
    {
      "cell_type": "code",
      "execution_count": 103,
      "id": "875cd4eb-7dd2-483d-8cc9-f12e4c8f6bc1",
      "metadata": {
        "id": "875cd4eb-7dd2-483d-8cc9-f12e4c8f6bc1"
      },
      "outputs": [],
      "source": [
        "class CustomDataset(Dataset):\n",
        "  def __init__(self, filename='dataset_new.xlsx'):\n",
        "    self.dataframe = pd.read_excel(filename)\n",
        "  def __len__(self):\n",
        "    return len(self.dataframe)\n",
        "  def __getitem__(self, idx):\n",
        "    # Select columns corresponding to the different inputs and outputs from the datafr\n",
        "    # And convert to PyTorch tensors\n",
        "    x1 = self.dataframe.iloc[idx, 0]\n",
        "    x2 = self.dataframe.iloc[idx, 1]\n",
        "    y = self.dataframe.iloc[idx, 2]\n",
        "    x1 = torch.tensor(x1, dtype = torch.float32)\n",
        "    x2 = torch.tensor(x2, dtype = torch.float32)\n",
        "    y = torch.tensor(y, dtype = torch.float32)\n",
        "    # Assemble all input features in a single inputs tensor with 2 columns and rows fo\n",
        "    inputs = torch.stack([x1, x2])\n",
        "    return inputs, y"
      ]
    },
    {
      "cell_type": "code",
      "execution_count": 104,
      "id": "2f453b16-1fe1-4fe7-ab85-78684d25657a",
      "metadata": {
        "id": "2f453b16-1fe1-4fe7-ab85-78684d25657a"
      },
      "outputs": [],
      "source": [
        "class WeirdLayer(nn.Module):\n",
        "  def __init__(self, input_dim, output_dim, alpha_init=1.2):\n",
        "    super().__init__()\n",
        "    self.linear = nn.Linear(input_dim, output_dim)\n",
        "    self.alpha = nn.Parameter(torch.tensor(alpha_init, dtype=torch.float32))\n",
        "    self.fc_for_tanh = nn.Linear(input_dim, output_dim)\n",
        "  def forward(self, x):\n",
        "    linear_output = self.linear(x)\n",
        "    tanh_output = torch.tanh(self.fc_for_tanh(x))\n",
        "    return linear_output + self.alpha * tanh_output"
      ]
    },
    {
      "cell_type": "markdown",
      "id": "57a1f34e-653c-4304-8b8a-9ab3d1d62825",
      "metadata": {
        "id": "57a1f34e-653c-4304-8b8a-9ab3d1d62825"
      },
      "source": [
        "We will also reload the dataset from earlier in Notebook 1-A."
      ]
    },
    {
      "cell_type": "code",
      "execution_count": 105,
      "id": "aef4d9c9-c54e-4b7e-8eb1-696dc5a83bef",
      "metadata": {
        "colab": {
          "base_uri": "https://localhost:8080/",
          "height": 557
        },
        "id": "aef4d9c9-c54e-4b7e-8eb1-696dc5a83bef",
        "outputId": "36fa254b-c40c-45e3-d998-da1e1088d4d0"
      },
      "outputs": [
        {
          "name": "stdout",
          "output_type": "stream",
          "text": [
            "(1000, 2) (1000,)\n",
            "Number of samples with class 0: 222\n",
            "Number of samples with class 1: 778\n"
          ]
        },
        {
          "data": {
            "image/png": "[encoded data removed]",
            "text/plain": [
              "<Figure size 1000x700 with 1 Axes>"
            ]
          },
          "metadata": {},
          "output_type": "display_data"
        }
      ],
      "source": [
        "# Dataset parameters\n",
        "np.random.seed(17)\n",
        "min_val = -1\n",
        "max_val = 1\n",
        "n_points = 1000\n",
        "# Load dataset from file\n",
        "excel_file_path = 'dataset_new.xlsx'\n",
        "val1_list, val2_list, inputs, outputs = load_dataset(excel_file_path = excel_file_path)\n",
        "# Visualize data in arrays\n",
        "print(inputs.shape, outputs.shape)\n",
        "print(\"Number of samples with class 0:\", len(outputs) - sum(outputs))\n",
        "print(\"Number of samples with class 1:\", sum(outputs))\n",
        "# Visualize the dataset\n",
        "plot_dataset(min_val, max_val, val1_list, val2_list, outputs)"
      ]
    },
    {
      "cell_type": "markdown",
      "id": "6d5b1e51-696a-4b43-9704-55e361e6fcad",
      "metadata": {
        "id": "6d5b1e51-696a-4b43-9704-55e361e6fcad"
      },
      "source": [
        "The cell below also needs to be updated with your solution for de Dataloader part in Notebook 1-A."
      ]
    },
    {
      "cell_type": "code",
      "execution_count": 106,
      "id": "bc8e4645-a732-441d-a6ec-31a672f25821",
      "metadata": {
        "id": "bc8e4645-a732-441d-a6ec-31a672f25821"
      },
      "outputs": [],
      "source": [
        "# Create Dataset object\n",
        "pt_dataset = CustomDataset()\n",
        "# Define batch size\n",
        "batch_size = 128\n",
        "# Create DataLoader object\n",
        "pt_dataloader = DataLoader(pt_dataset, batch_size, shuffle=True)"
      ]
    },
    {
      "cell_type": "markdown",
      "id": "2082ce7b-ed6b-42e3-af54-5547d64a826b",
      "metadata": {
        "id": "2082ce7b-ed6b-42e3-af54-5547d64a826b"
      },
      "source": [
        "## 5. Defining a Neural Network for this task - Part1: Architecture and Forward Propagation\n",
        "\n",
        "In this section, we will establish our Neural Network model for this task. The architecture will consist of:\n",
        "- One WeirdOperation Layer (weird_layer), which takes 2 inputs and produces 32 outputs,\n",
        "- First Linear Layer (hidden1): Takes 32 inputs and produces 64 outputs, followed by a GELU activation function.\n",
        "- Second Linear Layer (hidden2): Takes 64 inputs and produces 32 outputs, followed by a GELU activation function.\n",
        "- Third Linear Layer (hidden3): Takes 32 inputs and produces 16 outputs, followed by a GELU activation function.\n",
        "- Final Linear Layer (fc): Takes 16 inputs and produces 1 output.\n",
        "- Final Activation (sigmoid): Applies a Sigmoid activation to map the output, making it suitable for binary classification.\n",
        "\n",
        "Our Neural Network will use Binary Cross-Entropy as a loss functions (to be stored in the self.loss attribute) and the binary accuracy from the torchmetrics library, stored in the self.accuracy attribute.\n",
        "\n",
        "**Question 10:** Show your final code for the *NeuralNetwork* class in your report.\n",
        "\n",
        "The code below, will describe our neural network model and a few None variables need to be replaced."
      ]
    },
    {
      "cell_type": "code",
      "execution_count": 107,
      "id": "ac9bf07f-f04d-4619-994d-39ca2ddc3537",
      "metadata": {
        "id": "ac9bf07f-f04d-4619-994d-39ca2ddc3537"
      },
      "outputs": [],
      "source": [
        "class NeuralNetwork(nn.Module):\n",
        "    def __init__(self):\n",
        "        super().__init__()\n",
        "        self.weird_layer = WeirdLayer(2, 32)\n",
        "        self.hidden1 = nn.Linear(32, 64)\n",
        "        self.hidden2 = nn.Linear(64, 32)\n",
        "        self.hidden3 = nn.Linear(32, 16)\n",
        "        self.fc = nn.Linear(16, 1)\n",
        "        self.activation = nn.GELU()\n",
        "        self.sigmoid = nn.Sigmoid()\n",
        "        self.loss = nn.BCELoss()\n",
        "        self.accuracy = BinaryAccuracy()\n",
        "\n",
        "    def forward(self, x):\n",
        "        x = self.weird_layer(x)\n",
        "        x = self.activation(self.hidden1(x))\n",
        "        x = self.activation(self.hidden2(x))\n",
        "        x = self.activation(self.hidden3(x))\n",
        "        x = self.fc(x)\n",
        "        x = self.sigmoid(x)\n",
        "        return x"
      ]
    },
    {
      "cell_type": "code",
      "execution_count": 108,
      "id": "c40b48d6-41a9-4712-ae12-355b19ae2ef0",
      "metadata": {
        "id": "c40b48d6-41a9-4712-ae12-355b19ae2ef0"
      },
      "outputs": [],
      "source": [
        "# Create Neural Network model\n",
        "model = NeuralNetwork()"
      ]
    },
    {
      "cell_type": "markdown",
      "id": "38f44c7d-7103-4fa5-b599-dd8ba048b815",
      "metadata": {
        "id": "38f44c7d-7103-4fa5-b599-dd8ba048b815"
      },
      "source": [
        "**Question 11:** Why is the purpose of the Sigmoid activation used in the final layer? Why can't we simply use a Weird layer as the final operation in the forward method?"
      ]
    },
    {
      "cell_type": "code",
      "execution_count": 109,
      "id": "b6153db7-a897-442e-8467-c389ae1373f1",
      "metadata": {
        "colab": {
          "base_uri": "https://localhost:8080/"
        },
        "id": "b6153db7-a897-442e-8467-c389ae1373f1",
        "outputId": "e78c049b-775f-4def-e3be-e798fd65dbfc"
      },
      "outputs": [
        {
          "name": "stdout",
          "output_type": "stream",
          "text": [
            "NeuralNetwork(\n",
            "  (weird_layer): WeirdLayer(\n",
            "    (linear): Linear(in_features=2, out_features=32, bias=True)\n",
            "    (fc_for_tanh): Linear(in_features=2, out_features=32, bias=True)\n",
            "  )\n",
            "  (hidden1): Linear(in_features=32, out_features=64, bias=True)\n",
            "  (hidden2): Linear(in_features=64, out_features=32, bias=True)\n",
            "  (hidden3): Linear(in_features=32, out_features=16, bias=True)\n",
            "  (fc): Linear(in_features=16, out_features=1, bias=True)\n",
            "  (activation): GELU(approximate='none')\n",
            "  (sigmoid): Sigmoid()\n",
            "  (loss): BCELoss()\n",
            "  (accuracy): BinaryAccuracy()\n",
            ")\n"
          ]
        }
      ],
      "source": [
        "print(model)"
      ]
    },
    {
      "cell_type": "markdown",
      "id": "44871cfc-957e-494f-be7d-a286bff4a277",
      "metadata": {
        "id": "44871cfc-957e-494f-be7d-a286bff4a277"
      },
      "source": [
        "## 6. Defining a Neural Network for this task - Part2: BackPropagation and Training\n",
        "\n",
        "Have a look at the code below. The code:\n",
        "- Initializes our model.\n",
        "- Initializes an Adam Optimizer, and asks for 15 iterations of the forward-backprop.\n",
        "- For each mini-batch of data drawn on each iteration, it produces predictions, calculates a loss and calculates the binary accuracy on said samples.\n",
        "- It then backpropagates on the *loss_value* and adjusts the model parameters using *optimizer.step()*.\n",
        "- Finally, it shows a nice display.\n",
        "\n",
        "**Question 12:** Why do we use nn.BCELoss() instead of nn.CrossEntropyLoss() for binary classification?\n",
        "\n",
        "**ANSWER 12:**\n",
        "\n",
        "For nn.CrossEntropy(), it requires two output neurons and applies softmax, which is redundant cause for binary classification we only need one probablity (i.e. p(class1) = 1 - p(class0)) and computing of nn.CrossEntropy() is not possible cause our current neural network class does not support the infrastructure required to implement nn.CrossEntropy().\n",
        "\n",
        "Furthermore, nn.BCELoss() is more computationally efficient for binary classification as it only uses one output neuron.\n"
      ]
    },
    {
      "cell_type": "code",
      "execution_count": 110,
      "id": "2153b229-2eaf-4c27-b306-97542cefbaa5",
      "metadata": {
        "colab": {
          "base_uri": "https://localhost:8080/"
        },
        "id": "2153b229-2eaf-4c27-b306-97542cefbaa5",
        "outputId": "776482f5-3927-466d-e403-00b2b1441ede"
      },
      "outputs": [
        {
          "name": "stdout",
          "output_type": "stream",
          "text": [
            "Epoch [1/15], Training Loss: 0.5059, Training Accuracy: 0.7692\n",
            "Epoch [2/15], Training Loss: 0.3606, Training Accuracy: 0.8173\n",
            "Epoch [3/15], Training Loss: 0.2704, Training Accuracy: 0.8462\n",
            "Epoch [4/15], Training Loss: 0.2242, Training Accuracy: 0.9231\n",
            "Epoch [5/15], Training Loss: 0.1963, Training Accuracy: 0.9038\n",
            "Epoch [6/15], Training Loss: 0.3795, Training Accuracy: 0.8269\n",
            "Epoch [7/15], Training Loss: 0.3304, Training Accuracy: 0.8365\n",
            "Epoch [8/15], Training Loss: 0.2384, Training Accuracy: 0.8462\n",
            "Epoch [9/15], Training Loss: 0.2693, Training Accuracy: 0.8558\n",
            "Epoch [10/15], Training Loss: 0.2266, Training Accuracy: 0.9038\n",
            "Epoch [11/15], Training Loss: 0.2057, Training Accuracy: 0.8942\n",
            "Epoch [12/15], Training Loss: 0.2199, Training Accuracy: 0.8750\n",
            "Epoch [13/15], Training Loss: 0.1778, Training Accuracy: 0.9231\n",
            "Epoch [14/15], Training Loss: 0.2053, Training Accuracy: 0.9038\n",
            "Epoch [15/15], Training Loss: 0.1425, Training Accuracy: 0.9519\n"
          ]
        }
      ],
      "source": [
        "# Create Neural Network model\n",
        "model = NeuralNetwork().to(device)\n",
        "\n",
        "# Gradient descent parameters: optimizers, repetitions, etc.\n",
        "num_epochs = 15\n",
        "optimizer = torch.optim.Adam(model.parameters(),\n",
        "                             lr = 0.01,\n",
        "                             betas = (0.9, 0.999),\n",
        "                             eps = 1e-08)\n",
        "optimizer.zero_grad()\n",
        "\n",
        "for epoch in range(num_epochs):\n",
        "    for batch in pt_dataloader:\n",
        "        # Unpack the mini-batch data\n",
        "        inputs_batch, outputs_batch = batch\n",
        "        outputs_re = outputs_batch.to(device).reshape(-1, 1)\n",
        "        inputs_re = inputs_batch.to(device)\n",
        "\n",
        "        # Forward pass\n",
        "        pred = model(inputs_re)\n",
        "        loss_value = model.loss(pred.float(), outputs_re.float())\n",
        "        # Compute binary accuracy\n",
        "        binary_accuracy_value = model.accuracy(pred, outputs_re)\n",
        "\n",
        "        # Backward pass and optimization\n",
        "        loss_value.backward()\n",
        "        optimizer.step()\n",
        "        optimizer.zero_grad()\n",
        "\n",
        "    # Print loss and accuracy\n",
        "    print(f'Epoch [{epoch+1}/{num_epochs}], Training Loss: {loss_value.item():.4f}, Training Accuracy: {binary_accuracy_value.item():.4f}')"
      ]
    },
    {
      "cell_type": "code",
      "execution_count": 111,
      "id": "320bb6a9",
      "metadata": {},
      "outputs": [
        {
          "name": "stdout",
          "output_type": "stream",
          "text": [
            "Test Loss: 0.1388, Test Accuracy: 0.9297\n"
          ]
        }
      ],
      "source": [
        "# Results on test set for implementing batch normalization\n",
        "test_dataset = CustomDataset(filename='unseen_dataset_new.xlsx')\n",
        "test_dataloader = DataLoader(test_dataset, batch_size=batch_size, shuffle=True)\n",
        "\n",
        "for inputs_batch, outputs_batch in test_dataloader:\n",
        "    outputs_re = outputs_batch.to(device).reshape(-1, 1)\n",
        "    inputs_re = inputs_batch.to(device)\n",
        "    pred = model(inputs_re)\n",
        "    loss_value = model.loss(pred.float(), outputs_re.float())\n",
        "    binary_accuracy_value = model.accuracy(pred, outputs_re)\n",
        "\n",
        "print(f'Test Loss: {loss_value.item():.4f}, Test Accuracy: {binary_accuracy_value.item():.4f}')"
      ]
    },
    {
      "cell_type": "markdown",
      "id": "1950e48f-b050-425f-a386-f746988e0d06",
      "metadata": {
        "id": "1950e48f-b050-425f-a386-f746988e0d06"
      },
      "source": [
        "**Question 13:** When running the cell above, it seems the model is not capable of achieving a great accuracy. If anything, it seems to remain stuck at an accuracy of 30% or so. Did we make a mistake in one of our hyperparameters (e.g. the learning rate)? Or is the model simply incapable of figuring out this task (maybe because of the weird layer we have decided to use)?\n",
        "\n",
        "**ANSWER 13:**\n",
        "\n",
        "\n",
        "1.   Alpha Adjustment (alpha_init=1.2): The alpha parameter in the weird layer controls how much of the tanh transformation contributes to the final output. Given, the non-linearity of the data-spread, I hypothesise that maybe allowing the tanh componenet to have a stronger influence can potentially improve feature extraction.  \n",
        "2.   Learning Rate Adjustment (lr = 0.01): The orignal learning rate of 1000 is too large and could have been leading to divergence, for e.g. the gradient updates with lr=1000 might have been so large that the model jumps past the optimal values and fails to learn. With lr=0.01, the optimizer makes gradual, controlled updates, potentially leading to better convergence.\n",
        "\n",
        "\n",
        "\n",
        "\n",
        "\n",
        "**Question 14:** Assuming you figured out what was wrong in Question 13, show in your report how you resolved the problem in the code above.\n",
        "Your model should be able to produce a final training accuracy above 90%.\n",
        "\n",
        "**ANSWER 14:** Final Training Accuracy:  0.9519\n"
      ]
    },
    {
      "cell_type": "markdown",
      "id": "c3e48377-e866-4525-852a-b465650e1e1b",
      "metadata": {
        "id": "c3e48377-e866-4525-852a-b465650e1e1b"
      },
      "source": [
        "**Question 15:** How can we improve the generalization ability of a model? Please list at least two methods and explain their principles.\n",
        "\n",
        "**ANSWER 15:**\n",
        "\n",
        "1. Implementing Batch Normalisation: The objective is to stabalize the distribution of activations within a neural network layer by calculating the mean and standard deviation of a mini-batch of data and then normalizing the activations using these statistics. \n",
        "\n",
        "2. Increasing Number of Epochs: With increased number of epochs, it allows for multiple passes over the dataset, this allows the model to learn better representations of the data by gradually refining its weight. Perhaps, the morel can move from simple patterns in the early layers to more complex relationships in deeper layers. \n",
        "\n",
        "**Question 16:** Having figured out how to prove/disprove generalization in Question 15, we leave the rest of the notebook cells for you to play with the code and figure out how to prove that your model is indeed capable of generalization (or not). Show your code, your results and how it matches the reasoning you described in Question 16. Is your model truly capable of solving this classification task in the end?\n",
        "\n",
        "**ANSWER 16:**\n",
        "\n",
        "1. Based on my results, implementing batch normalisation does not allow the model to generalise better. As seen by the drop in accuracy of the model in predicting the unseen dataset from 0.9297 for the orignal model to 0.8828 for the normalisation modified model. \n",
        "\n",
        "2. Based on my results, implementing increasing the number of epochs does allow the model to generalise better. As seen by the increase in accuracy of the model in predicting the unseen dataset from 0.9297 for the orignal model to 0.9531 for the epoch modified model. \n",
        "\n",
        "Workings can be found in code cells with the comment \"#WORKING FOR QUESTION 15/16\".\n",
        "\n",
        "**Question 17:** Looking back at the dataset and the samples distribution, do you feel *feature engineering* could have been useful here? If so, which synthetic features would you craft for this dataset? Bonus points might be given if you show code demonstrating some feature engineering.\n",
        "\n",
        "**ANSWER 17:**\n",
        "\n",
        "I created 4 new features: 'x1_x2_sum', 'x1_x2_product', 'x1_squared', 'x2_squared'. \n",
        "\n",
        "But I did not know which feature combination would work best, so I thought to conduct a experiment for the different iterations. Based on my results from experiment 1, the best performing combination was (x1, x2, x1_x2_sum, x1_x2_product, x2_squared) with an accuracy score of 0.971154. \n",
        "\n",
        "But then I thought, how can I make this model better, so I thought maybe this model is underfitting and want to increase the model complexity. Hence, in my experiment 2, I increase the number of features and also respectively scale my number of neurons in each layer. Based on my results from experiment 2, the best performing combination was (x1, x2, x1_x2_sum, x1_x2_product) with an accuracy score of 0.990385. The best performance in this notebook. \n",
        "\n",
        "Workings can be found in code cells with the comment \"#WORKING FOR QUESTION 17 - EXPERIMENT 1\" and #WORKING FOR QUESTION 17 - EXPERIMENT 2."
      ]
    },
    {
      "cell_type": "code",
      "execution_count": 112,
      "id": "4f1b73b4",
      "metadata": {},
      "outputs": [
        {
          "name": "stdout",
          "output_type": "stream",
          "text": [
            "Epoch [1/15], Training Loss: 0.3719, Training Accuracy: 0.8365\n",
            "Epoch [2/15], Training Loss: 0.2433, Training Accuracy: 0.9327\n",
            "Epoch [3/15], Training Loss: 0.2821, Training Accuracy: 0.8462\n",
            "Epoch [4/15], Training Loss: 0.2815, Training Accuracy: 0.8750\n",
            "Epoch [5/15], Training Loss: 0.2473, Training Accuracy: 0.8942\n",
            "Epoch [6/15], Training Loss: 0.2351, Training Accuracy: 0.8846\n",
            "Epoch [7/15], Training Loss: 0.2158, Training Accuracy: 0.9231\n",
            "Epoch [8/15], Training Loss: 0.2187, Training Accuracy: 0.8942\n",
            "Epoch [9/15], Training Loss: 0.2666, Training Accuracy: 0.8365\n",
            "Epoch [10/15], Training Loss: 0.2536, Training Accuracy: 0.8654\n",
            "Epoch [11/15], Training Loss: 0.5348, Training Accuracy: 0.8173\n",
            "Epoch [12/15], Training Loss: 0.2684, Training Accuracy: 0.8654\n",
            "Epoch [13/15], Training Loss: 0.2298, Training Accuracy: 0.8750\n",
            "Epoch [14/15], Training Loss: 0.2162, Training Accuracy: 0.8750\n",
            "Epoch [15/15], Training Loss: 0.1976, Training Accuracy: 0.9038\n"
          ]
        }
      ],
      "source": [
        "#WORKING FOR QUESTION 15/16\n",
        "\n",
        "# implementing batch normalization\n",
        "class NeuralNetwork_v2(nn.Module):\n",
        "    def __init__(self):\n",
        "        super().__init__()\n",
        "        self.weird_layer = WeirdLayer(2, 32)  \n",
        "        self.hidden1 = nn.Linear(32, 64)\n",
        "        self.bn1 = nn.BatchNorm1d(64)  \n",
        "        self.hidden2 = nn.Linear(64, 32)\n",
        "        self.bn2 = nn.BatchNorm1d(32)  \n",
        "        self.hidden3 = nn.Linear(32, 16)\n",
        "        self.bn3 = nn.BatchNorm1d(16)\n",
        "        self.fc = nn.Linear(16, 1)\n",
        "        \n",
        "        self.activation = nn.GELU()\n",
        "        self.sigmoid = nn.Sigmoid()\n",
        "\n",
        "        # Loss function and metric\n",
        "        self.loss = nn.BCELoss()\n",
        "        self.accuracy = BinaryAccuracy()\n",
        "\n",
        "    def forward(self, x):\n",
        "        x = self.weird_layer(x)\n",
        "        x = self.hidden1(x)\n",
        "        x = self.bn1(x)  \n",
        "        x = self.activation(x)\n",
        "        \n",
        "        x = self.hidden2(x)\n",
        "        x = self.bn2(x)\n",
        "        x = self.activation(x)\n",
        "        \n",
        "        x = self.hidden3(x)\n",
        "        x = self.bn3(x)\n",
        "        x = self.activation(x)\n",
        "        \n",
        "        x = self.fc(x)\n",
        "        x = self.sigmoid(x)\n",
        "        return x\n",
        "\n",
        "# Create Neural Network model\n",
        "model_v2 = NeuralNetwork_v2().to(device)\n",
        "\n",
        "# Gradient descent parameters: optimizers, repetitions, etc.\n",
        "num_epochs = 15\n",
        "optimizer = torch.optim.Adam(model_v2.parameters(),\n",
        "                             lr = 0.01,\n",
        "                             betas = (0.9, 0.999),\n",
        "                             eps = 1e-08)\n",
        "optimizer.zero_grad()\n",
        "\n",
        "for epoch in range(num_epochs):\n",
        "    for batch in pt_dataloader:\n",
        "        # Unpack the mini-batch data\n",
        "        inputs_batch, outputs_batch = batch\n",
        "        outputs_re = outputs_batch.to(device).reshape(-1, 1)\n",
        "        inputs_re = inputs_batch.to(device)\n",
        "\n",
        "        # Forward pass\n",
        "        pred = model_v2(inputs_re)\n",
        "        loss_value = model.loss(pred.float(), outputs_re.float())\n",
        "        # Compute binary accuracy\n",
        "        binary_accuracy_value = model_v2.accuracy(pred, outputs_re)\n",
        "\n",
        "        # Backward pass and optimization\n",
        "        loss_value.backward()\n",
        "        optimizer.step()\n",
        "        optimizer.zero_grad()\n",
        "\n",
        "    # Print loss and accuracy\n",
        "    print(f'Epoch [{epoch+1}/{num_epochs}], Training Loss: {loss_value.item():.4f}, Training Accuracy: {binary_accuracy_value.item():.4f}')"
      ]
    },
    {
      "cell_type": "code",
      "execution_count": 113,
      "id": "3af7dd30",
      "metadata": {},
      "outputs": [
        {
          "name": "stdout",
          "output_type": "stream",
          "text": [
            "Test Loss: 0.2290, Test Accuracy: 0.8828\n"
          ]
        }
      ],
      "source": [
        "#WORKING FOR QUESTION 15/16\n",
        "\n",
        "# Results on test set for implementing batch normalization\n",
        "test_dataset = CustomDataset(filename='unseen_dataset_new.xlsx')\n",
        "pt_dataloader = DataLoader(test_dataset, batch_size=batch_size, shuffle=True)\n",
        "\n",
        "for inputs_batch, outputs_batch in pt_dataloader:\n",
        "    outputs_re = outputs_batch.to(device).reshape(-1, 1)\n",
        "    inputs_re = inputs_batch.to(device)\n",
        "    pred = model_v2(inputs_re)\n",
        "    loss_value = model_v2.loss(pred.float(), outputs_re.float())\n",
        "    binary_accuracy_value = model_v2.accuracy(pred, outputs_re)\n",
        "\n",
        "print(f'Test Loss: {loss_value.item():.4f}, Test Accuracy: {binary_accuracy_value.item():.4f}')"
      ]
    },
    {
      "cell_type": "code",
      "execution_count": 114,
      "id": "4a1556e2",
      "metadata": {},
      "outputs": [
        {
          "name": "stdout",
          "output_type": "stream",
          "text": [
            "Epoch [1/50], Training Loss: 0.5812, Training Accuracy: 0.6875\n",
            "Epoch [2/50], Training Loss: 0.4996, Training Accuracy: 0.9062\n",
            "Epoch [3/50], Training Loss: 0.4711, Training Accuracy: 0.9141\n",
            "Epoch [4/50], Training Loss: 0.4314, Training Accuracy: 0.9141\n",
            "Epoch [5/50], Training Loss: 0.4072, Training Accuracy: 0.9141\n",
            "Epoch [6/50], Training Loss: 0.3873, Training Accuracy: 0.9141\n",
            "Epoch [7/50], Training Loss: 0.3677, Training Accuracy: 0.9141\n",
            "Epoch [8/50], Training Loss: 0.3490, Training Accuracy: 0.9141\n",
            "Epoch [9/50], Training Loss: 0.3305, Training Accuracy: 0.9062\n",
            "Epoch [10/50], Training Loss: 0.3128, Training Accuracy: 0.9141\n",
            "Epoch [11/50], Training Loss: 0.2967, Training Accuracy: 0.9141\n",
            "Epoch [12/50], Training Loss: 0.2825, Training Accuracy: 0.9141\n",
            "Epoch [13/50], Training Loss: 0.2695, Training Accuracy: 0.9141\n",
            "Epoch [14/50], Training Loss: 0.2573, Training Accuracy: 0.9141\n",
            "Epoch [15/50], Training Loss: 0.2460, Training Accuracy: 0.9141\n",
            "Epoch [16/50], Training Loss: 0.2352, Training Accuracy: 0.9141\n",
            "Epoch [17/50], Training Loss: 0.2256, Training Accuracy: 0.9219\n",
            "Epoch [18/50], Training Loss: 0.2170, Training Accuracy: 0.9219\n",
            "Epoch [19/50], Training Loss: 0.2091, Training Accuracy: 0.9141\n",
            "Epoch [20/50], Training Loss: 0.2020, Training Accuracy: 0.9141\n",
            "Epoch [21/50], Training Loss: 0.1955, Training Accuracy: 0.9141\n",
            "Epoch [22/50], Training Loss: 0.1896, Training Accuracy: 0.9141\n",
            "Epoch [23/50], Training Loss: 0.1844, Training Accuracy: 0.9141\n",
            "Epoch [24/50], Training Loss: 0.1794, Training Accuracy: 0.9141\n",
            "Epoch [25/50], Training Loss: 0.1748, Training Accuracy: 0.9141\n",
            "Epoch [26/50], Training Loss: 0.1708, Training Accuracy: 0.9141\n",
            "Epoch [27/50], Training Loss: 0.1672, Training Accuracy: 0.9141\n",
            "Epoch [28/50], Training Loss: 0.1637, Training Accuracy: 0.9141\n",
            "Epoch [29/50], Training Loss: 0.1605, Training Accuracy: 0.9141\n",
            "Epoch [30/50], Training Loss: 0.1572, Training Accuracy: 0.9219\n",
            "Epoch [31/50], Training Loss: 0.1540, Training Accuracy: 0.9297\n",
            "Epoch [32/50], Training Loss: 0.1508, Training Accuracy: 0.9297\n",
            "Epoch [33/50], Training Loss: 0.1478, Training Accuracy: 0.9297\n",
            "Epoch [34/50], Training Loss: 0.1466, Training Accuracy: 0.9219\n",
            "Epoch [35/50], Training Loss: 0.1531, Training Accuracy: 0.9141\n",
            "Epoch [36/50], Training Loss: 0.1404, Training Accuracy: 0.9297\n",
            "Epoch [37/50], Training Loss: 0.1518, Training Accuracy: 0.9297\n",
            "Epoch [38/50], Training Loss: 0.1369, Training Accuracy: 0.9297\n",
            "Epoch [39/50], Training Loss: 0.1428, Training Accuracy: 0.9141\n",
            "Epoch [40/50], Training Loss: 0.1345, Training Accuracy: 0.9375\n",
            "Epoch [41/50], Training Loss: 0.1360, Training Accuracy: 0.9453\n",
            "Epoch [42/50], Training Loss: 0.1311, Training Accuracy: 0.9453\n",
            "Epoch [43/50], Training Loss: 0.1293, Training Accuracy: 0.9375\n",
            "Epoch [44/50], Training Loss: 0.1282, Training Accuracy: 0.9375\n",
            "Epoch [45/50], Training Loss: 0.1229, Training Accuracy: 0.9531\n",
            "Epoch [46/50], Training Loss: 0.1244, Training Accuracy: 0.9453\n",
            "Epoch [47/50], Training Loss: 0.1187, Training Accuracy: 0.9531\n",
            "Epoch [48/50], Training Loss: 0.1195, Training Accuracy: 0.9375\n",
            "Epoch [49/50], Training Loss: 0.1143, Training Accuracy: 0.9531\n",
            "Epoch [50/50], Training Loss: 0.1151, Training Accuracy: 0.9453\n"
          ]
        }
      ],
      "source": [
        "#WORKING FOR QUESTION 15/16\n",
        "\n",
        "# increasing the number of epochs\n",
        "\n",
        "# Create Neural Network model\n",
        "model_v3 = NeuralNetwork_v2().to(device)\n",
        "\n",
        "# Gradient descent parameters: optimizers, repetitions, etc.\n",
        "num_epochs = 50\n",
        "optimizer = torch.optim.Adam(model_v3.parameters(),\n",
        "                             lr = 0.01,\n",
        "                             betas = (0.9, 0.999),\n",
        "                             eps = 1e-08)\n",
        "optimizer.zero_grad()\n",
        "\n",
        "for epoch in range(num_epochs):\n",
        "    for batch in pt_dataloader:\n",
        "        # Unpack the mini-batch data\n",
        "        inputs_batch, outputs_batch = batch\n",
        "        outputs_re = outputs_batch.to(device).reshape(-1, 1)\n",
        "        inputs_re = inputs_batch.to(device)\n",
        "\n",
        "        # Forward pass\n",
        "        pred = model_v3(inputs_re)\n",
        "        loss_value = model.loss(pred.float(), outputs_re.float())\n",
        "        # Compute binary accuracy\n",
        "        binary_accuracy_value = model_v3.accuracy(pred, outputs_re)\n",
        "\n",
        "        # Backward pass and optimization\n",
        "        loss_value.backward()\n",
        "        optimizer.step()\n",
        "        optimizer.zero_grad()\n",
        "\n",
        "    # Print loss and accuracy\n",
        "    print(f'Epoch [{epoch+1}/{num_epochs}], Training Loss: {loss_value.item():.4f}, Training Accuracy: {binary_accuracy_value.item():.4f}')"
      ]
    },
    {
      "cell_type": "code",
      "execution_count": 115,
      "id": "072a34a2",
      "metadata": {},
      "outputs": [
        {
          "name": "stdout",
          "output_type": "stream",
          "text": [
            "Test Loss: 0.1104, Test Accuracy: 0.9531\n"
          ]
        }
      ],
      "source": [
        "#WORKING FOR QUESTION 15/16\n",
        "# Results on test set for implementing batch normalization\n",
        "test_dataset = CustomDataset(filename='unseen_dataset_new.xlsx')\n",
        "pt_dataloader = DataLoader(test_dataset, batch_size=batch_size, shuffle=True)\n",
        "\n",
        "for inputs_batch, outputs_batch in pt_dataloader:\n",
        "    outputs_re = outputs_batch.to(device).reshape(-1, 1)\n",
        "    inputs_re = inputs_batch.to(device)\n",
        "    pred = model_v3(inputs_re)\n",
        "    loss_value = model_v3.loss(pred.float(), outputs_re.float())\n",
        "    binary_accuracy_value = model_v3.accuracy(pred, outputs_re)\n",
        "\n",
        "print(f'Test Loss: {loss_value.item():.4f}, Test Accuracy: {binary_accuracy_value.item():.4f}')"
      ]
    },
    {
      "cell_type": "code",
      "execution_count": null,
      "id": "10af1978",
      "metadata": {},
      "outputs": [
        {
          "name": "stdout",
          "output_type": "stream",
          "text": [
            "                                  Feature Combination  Accuracy\n",
            "0      (x1, x2, x1_x2_sum, x1_x2_product, x2_squared)  0.971154\n",
            "1              (x1_x2_sum, x1_x2_product, x1_squared)  0.942308\n",
            "2                     (x1, x2, x1_x2_sum, x1_squared)  0.942308\n",
            "3                                 (x1, x2, x1_x2_sum)  0.932692\n",
            "4                             (x1, x2, x1_x2_product)  0.932692\n",
            "5                                (x1, x2, x2_squared)  0.932692\n",
            "6                        (x2, x1_squared, x2_squared)  0.932692\n",
            "7          (x2, x1_x2_sum, x1_x2_product, x1_squared)  0.932692\n",
            "8      (x1, x2, x1_x2_sum, x1_x2_product, x1_squared)  0.932692\n",
            "9                                     (x1, x1_x2_sum)  0.923077\n",
            "10                     (x1, x1_x2_sum, x1_x2_product)  0.923077\n",
            "11                        (x1, x1_x2_sum, x1_squared)  0.923077\n",
            "12                    (x1, x2, x1_x2_sum, x2_squared)  0.923077\n",
            "13                (x1, x2, x1_x2_product, x1_squared)  0.923077\n",
            "14                (x1, x2, x1_x2_product, x2_squared)  0.923077\n",
            "15                                           (x1, x2)  0.913462\n",
            "16                           (x1_squared, x2_squared)  0.913462\n",
            "17                       (x1, x1_squared, x2_squared)  0.913462\n",
            "18         (x1, x1_x2_sum, x1_x2_product, x2_squared)  0.913462\n",
            "19         (x2, x1_x2_sum, x1_x2_product, x2_squared)  0.913462\n",
            "20                                   (x1, x2_squared)  0.903846\n",
            "21                                (x2, x1_x2_product)  0.903846\n",
            "22                        (x1, x1_x2_sum, x2_squared)  0.903846\n",
            "23             (x1_x2_sum, x1_x2_product, x2_squared)  0.903846\n",
            "24                         (x1_x2_sum, x1_x2_product)  0.894231\n",
            "25                    (x1, x1_x2_product, x1_squared)  0.894231\n",
            "26                (x1_x2_sum, x1_squared, x2_squared)  0.894231\n",
            "27            (x1_x2_product, x1_squared, x2_squared)  0.894231\n",
            "28                 (x1, x2, x1_x2_sum, x1_x2_product)  0.894231\n",
            "29  (x1_x2_sum, x1_x2_product, x1_squared, x2_squa...  0.894231\n",
            "30  (x1, x1_x2_sum, x1_x2_product, x1_squared, x2_...  0.894231\n",
            "31                        (x2, x1_x2_sum, x2_squared)  0.884615\n",
            "32                    (x2, x1_x2_product, x1_squared)  0.884615\n",
            "33        (x1, x1_x2_product, x1_squared, x2_squared)  0.884615\n",
            "34                                    (x2, x1_x2_sum)  0.875000\n",
            "35                                   (x2, x1_squared)  0.875000\n",
            "36                    (x1, x1_x2_product, x2_squared)  0.875000\n",
            "37                     (x2, x1_x2_sum, x1_x2_product)  0.875000\n",
            "38            (x2, x1_x2_sum, x1_squared, x2_squared)  0.875000\n",
            "39        (x2, x1_x2_product, x1_squared, x2_squared)  0.875000\n",
            "40    (x1, x2, x1_x2_product, x1_squared, x2_squared)  0.875000\n",
            "41  (x2, x1_x2_sum, x1_x2_product, x1_squared, x2_...  0.875000\n",
            "42                                (x1, x1_x2_product)  0.865385\n",
            "43                            (x1_x2_sum, x2_squared)  0.865385\n",
            "44                    (x2, x1_x2_product, x2_squared)  0.865385\n",
            "45        (x1, x2, x1_x2_sum, x1_squared, x2_squared)  0.865385\n",
            "46                            (x1_x2_sum, x1_squared)  0.855769\n",
            "47                        (x2, x1_x2_sum, x1_squared)  0.855769\n",
            "48         (x1, x1_x2_sum, x1_x2_product, x1_squared)  0.855769\n",
            "49                                   (x2, x2_squared)  0.836538\n",
            "50                        (x1_x2_product, x2_squared)  0.836538\n",
            "51                               (x1, x2, x1_squared)  0.836538\n",
            "52                   (x1, x2, x1_squared, x2_squared)  0.817308\n",
            "53            (x1, x1_x2_sum, x1_squared, x2_squared)  0.817308\n",
            "54                                   (x1, x1_squared)  0.769231\n",
            "55                        (x1_x2_product, x1_squared)  0.769231\n"
          ]
        }
      ],
      "source": [
        "#WORKING FOR QUESTION 17 - EXPERIMENT 1\n",
        "from itertools import combinations\n",
        "\n",
        "# Define dataset with feature selection\n",
        "class CustomDataset_FE(Dataset):\n",
        "    def __init__(self, filename='dataset_new.xlsx', feature_indices=None):\n",
        "        self.dataframe = pd.read_excel(filename)\n",
        "        self.feature_indices = feature_indices\n",
        "    \n",
        "    def __len__(self):\n",
        "        return len(self.dataframe)\n",
        "    \n",
        "    def __getitem__(self, idx):\n",
        "        x1 = self.dataframe.iloc[idx, 0]\n",
        "        x2 = self.dataframe.iloc[idx, 1]\n",
        "        y = self.dataframe.iloc[idx, 2]\n",
        "\n",
        "        x1_x2_sum = x1 + x2\n",
        "        x1_x2_product = x1 * x2\n",
        "        x1_squared = x1 ** 2\n",
        "        x2_squared = x2 ** 2\n",
        "\n",
        "        all_features = [x1, x2, x1_x2_sum, x1_x2_product, x1_squared, x2_squared]\n",
        "        selected_features = [torch.tensor(all_features[i], dtype=torch.float32) for i in self.feature_indices]\n",
        "        inputs = torch.stack(selected_features)\n",
        "        y = torch.tensor(y, dtype=torch.float32)\n",
        "\n",
        "        return inputs, y\n",
        "\n",
        "# Define Neural Network\n",
        "class NeuralNetwork_FE(nn.Module):\n",
        "    def __init__(self, input_size):\n",
        "        super().__init__()\n",
        "        \n",
        "        self.weird_layer = WeirdLayer(input_size, 32)\n",
        "        self.hidden1 = nn.Linear(32, 64)\n",
        "        self.hidden2 = nn.Linear(64, 32)\n",
        "        self.hidden3 = nn.Linear(32, 16)\n",
        "        self.fc = nn.Linear(16, 1)\n",
        "        self.activation = nn.GELU()\n",
        "        self.sigmoid = nn.Sigmoid()\n",
        "        self.loss = nn.BCELoss()\n",
        "        self.accuracy = BinaryAccuracy()\n",
        "\n",
        "    def forward(self, x):\n",
        "        x = self.weird_layer(x)  \n",
        "        x = self.activation(self.hidden1(x))\n",
        "        x = self.activation(self.hidden2(x))\n",
        "        x = self.activation(self.hidden3(x))\n",
        "        x = self.fc(x)\n",
        "        x = self.sigmoid(x)\n",
        "        return x\n",
        "\n",
        "# Training function\n",
        "def train_and_evaluate(feature_indices):\n",
        "    dataset = CustomDataset_FE(feature_indices=feature_indices)\n",
        "    dataloader = DataLoader(dataset, batch_size=batch_size, shuffle=True)\n",
        "    model = NeuralNetwork_FE(len(feature_indices)).to(device)\n",
        "    optimizer = torch.optim.Adam(model.parameters(),\n",
        "                             lr = 0.01,\n",
        "                             betas = (0.9, 0.999),\n",
        "                             eps = 1e-08)\n",
        "    optimizer.zero_grad()\n",
        "    epochs = 15\n",
        "    \n",
        "    for epoch in range(epochs):\n",
        "        for batch in dataloader:\n",
        "            inputs_batch, outputs_batch = batch\n",
        "            inputs_batch, outputs_batch = inputs_batch.to(device), outputs_batch.to(device).reshape(-1, 1)\n",
        "            \n",
        "            pred = model(inputs_batch)\n",
        "            loss_value = model.loss(pred.float(), outputs_batch.float())\n",
        "            binary_accuracy_value = model.accuracy(pred, outputs_batch)\n",
        "            \n",
        "            loss_value.backward()\n",
        "            optimizer.step()\n",
        "            optimizer.zero_grad()\n",
        "    \n",
        "    return binary_accuracy_value.item()\n",
        "\n",
        "# Test different feature combinations\n",
        "feature_names = ['x1', 'x2', 'x1_x2_sum', 'x1_x2_product', 'x1_squared', 'x2_squared']\n",
        "results = []\n",
        "\n",
        "for num_features in range(2, 6):\n",
        "    for feature_comb in combinations(range(6), num_features):\n",
        "        accuracy = train_and_evaluate(feature_comb)\n",
        "        results.append((feature_comb, accuracy))\n",
        "\n",
        "\n",
        "results.sort(key=lambda x: x[1], reverse=True)\n",
        "\n",
        "\n",
        "results_df = pd.DataFrame([(tuple(feature_names[i] for i in comb), acc) for comb, acc in results], columns=[\"Feature Combination\", \"Accuracy\"])\n",
        "print(results_df)\n",
        "\n",
        "results_df.to_excel('results_experiment_1.xlsx', index=False)\n"
      ]
    },
    {
      "cell_type": "code",
      "execution_count": null,
      "id": "8a1c3c6c",
      "metadata": {},
      "outputs": [
        {
          "name": "stdout",
          "output_type": "stream",
          "text": [
            "                                  Feature Combination  Accuracy\n",
            "0                  (x1, x2, x1_x2_sum, x1_x2_product)  0.990385\n",
            "1                                 (x1, x2, x1_x2_sum)  0.971154\n",
            "2          (x2, x1_x2_sum, x1_x2_product, x1_squared)  0.971154\n",
            "3      (x1, x2, x1_x2_sum, x1_x2_product, x2_squared)  0.971154\n",
            "4                     (x1, x2, x1_x2_sum, x2_squared)  0.961538\n",
            "5          (x2, x1_x2_sum, x1_x2_product, x2_squared)  0.961538\n",
            "6                         (x2, x1_x2_sum, x1_squared)  0.951923\n",
            "7          (x1, x1_x2_sum, x1_x2_product, x2_squared)  0.951923\n",
            "8                                     (x2, x1_x2_sum)  0.942308\n",
            "9                 (x1, x2, x1_x2_product, x1_squared)  0.942308\n",
            "10                (x1, x2, x1_x2_product, x2_squared)  0.942308\n",
            "11  (x2, x1_x2_sum, x1_x2_product, x1_squared, x2_...  0.942308\n",
            "12                        (x2, x1_x2_sum, x2_squared)  0.932692\n",
            "13                    (x1, x2, x1_x2_sum, x1_squared)  0.932692\n",
            "14                     (x1, x1_x2_sum, x1_x2_product)  0.923077\n",
            "15                    (x1, x1_x2_product, x2_squared)  0.923077\n",
            "16    (x1, x2, x1_x2_product, x1_squared, x2_squared)  0.923077\n",
            "17                                    (x1, x1_x2_sum)  0.913462\n",
            "18                        (x1, x1_x2_sum, x1_squared)  0.913462\n",
            "19         (x1, x1_x2_sum, x1_x2_product, x1_squared)  0.913462\n",
            "20        (x2, x1_x2_product, x1_squared, x2_squared)  0.913462\n",
            "21                                           (x1, x2)  0.903846\n",
            "22                                   (x1, x2_squared)  0.903846\n",
            "23                               (x1, x2, x2_squared)  0.903846\n",
            "24             (x1_x2_sum, x1_x2_product, x2_squared)  0.903846\n",
            "25                            (x1, x2, x1_x2_product)  0.894231\n",
            "26                     (x2, x1_x2_sum, x1_x2_product)  0.894231\n",
            "27                    (x2, x1_x2_product, x1_squared)  0.894231\n",
            "28                (x1_x2_sum, x1_squared, x2_squared)  0.894231\n",
            "29                   (x1, x2, x1_squared, x2_squared)  0.894231\n",
            "30            (x1, x1_x2_sum, x1_squared, x2_squared)  0.894231\n",
            "31            (x2, x1_x2_sum, x1_squared, x2_squared)  0.894231\n",
            "32                        (x1_x2_product, x1_squared)  0.884615\n",
            "33                               (x1, x2, x1_squared)  0.884615\n",
            "34                    (x2, x1_x2_product, x2_squared)  0.884615\n",
            "35            (x1_x2_product, x1_squared, x2_squared)  0.884615\n",
            "36     (x1, x2, x1_x2_sum, x1_x2_product, x1_squared)  0.884615\n",
            "37                                (x2, x1_x2_product)  0.875000\n",
            "38                                   (x2, x1_squared)  0.875000\n",
            "39  (x1_x2_sum, x1_x2_product, x1_squared, x2_squa...  0.875000\n",
            "40                         (x1_x2_sum, x1_x2_product)  0.865385\n",
            "41                        (x1_x2_product, x2_squared)  0.865385\n",
            "42                                (x1, x1_x2_product)  0.855769\n",
            "43                       (x1, x1_squared, x2_squared)  0.855769\n",
            "44        (x1, x2, x1_x2_sum, x1_squared, x2_squared)  0.855769\n",
            "45                        (x1, x1_x2_sum, x2_squared)  0.846154\n",
            "46                       (x2, x1_squared, x2_squared)  0.846154\n",
            "47        (x1, x1_x2_product, x1_squared, x2_squared)  0.846154\n",
            "48                            (x1_x2_sum, x1_squared)  0.836538\n",
            "49                            (x1_x2_sum, x2_squared)  0.836538\n",
            "50  (x1, x1_x2_sum, x1_x2_product, x1_squared, x2_...  0.836538\n",
            "51             (x1_x2_sum, x1_x2_product, x1_squared)  0.826923\n",
            "52                                   (x1, x1_squared)  0.807692\n",
            "53                           (x1_squared, x2_squared)  0.807692\n",
            "54                                   (x2, x2_squared)  0.798077\n",
            "55                    (x1, x1_x2_product, x1_squared)  0.788462\n"
          ]
        }
      ],
      "source": [
        "#WORKING FOR QUESTION 17 - EXPERIMENT 2\n",
        "from itertools import combinations\n",
        "\n",
        "# Define dataset with feature selection\n",
        "class CustomDataset_FE(Dataset):\n",
        "    def __init__(self, filename='dataset_new.xlsx', feature_indices=None):\n",
        "        self.dataframe = pd.read_excel(filename)\n",
        "        self.feature_indices = feature_indices\n",
        "    \n",
        "    def __len__(self):\n",
        "        return len(self.dataframe)\n",
        "    \n",
        "    def __getitem__(self, idx):\n",
        "        x1 = self.dataframe.iloc[idx, 0]\n",
        "        x2 = self.dataframe.iloc[idx, 1]\n",
        "        y = self.dataframe.iloc[idx, 2]\n",
        "\n",
        "        x1_x2_sum = x1 + x2\n",
        "        x1_x2_product = x1 * x2\n",
        "        x1_squared = x1 ** 2\n",
        "        x2_squared = x2 ** 2\n",
        "\n",
        "        all_features = [x1, x2, x1_x2_sum, x1_x2_product, x1_squared, x2_squared]\n",
        "        selected_features = [torch.tensor(all_features[i], dtype=torch.float32) for i in self.feature_indices]\n",
        "        inputs = torch.stack(selected_features)\n",
        "        y = torch.tensor(y, dtype=torch.float32)\n",
        "\n",
        "        return inputs, y\n",
        "\n",
        "# Define Neural Network\n",
        "class NeuralNetwork_FE(nn.Module):\n",
        "    def __init__(self, input_size, scale_factor=1):\n",
        "        super().__init__()\n",
        "\n",
        "        # Calculate sizes based on scale factor while maintaining ratios\n",
        "        h1_size = int(32 * scale_factor)\n",
        "        h2_size = int(64 * scale_factor)\n",
        "        h3_size = int(32 * scale_factor)\n",
        "        h4_size = int(16 * scale_factor)\n",
        "        \n",
        "        self.weird_layer = WeirdLayer(input_size, h1_size) \n",
        "        self.hidden1 = nn.Linear(h1_size, h2_size)  \n",
        "        self.hidden2 = nn.Linear(h2_size, h3_size)  \n",
        "        self.hidden3 = nn.Linear(h3_size, h4_size)  \n",
        "        self.fc = nn.Linear(h4_size, 1)\n",
        "        self.activation = nn.GELU()\n",
        "        self.sigmoid = nn.Sigmoid()\n",
        "        self.loss = nn.BCELoss()\n",
        "        self.accuracy = BinaryAccuracy()\n",
        "\n",
        "    def forward(self, x):\n",
        "        x = self.weird_layer(x)  \n",
        "        x = self.activation(self.hidden1(x))\n",
        "        x = self.activation(self.hidden2(x))\n",
        "        x = self.activation(self.hidden3(x))\n",
        "        x = self.fc(x)\n",
        "        x = self.sigmoid(x)\n",
        "        return x\n",
        "\n",
        "# Training function\n",
        "def train_and_evaluate(feature_indices, scale_factor):\n",
        "    dataset = CustomDataset_FE(feature_indices=feature_indices)\n",
        "    dataloader = DataLoader(dataset, batch_size=batch_size, shuffle=True)\n",
        "    model = NeuralNetwork_FE(len(feature_indices), scale_factor).to(device)\n",
        "    optimizer = torch.optim.Adam(model.parameters(),\n",
        "                             lr = 0.01,\n",
        "                             betas = (0.9, 0.999),\n",
        "                             eps = 1e-08)\n",
        "    optimizer.zero_grad()\n",
        "    epochs = 15\n",
        "    \n",
        "    for epoch in range(epochs):\n",
        "        for batch in dataloader:\n",
        "            inputs_batch, outputs_batch = batch\n",
        "            inputs_batch, outputs_batch = inputs_batch.to(device), outputs_batch.to(device).reshape(-1, 1)\n",
        "            \n",
        "            pred = model(inputs_batch)\n",
        "            loss_value = model.loss(pred.float(), outputs_batch.float())\n",
        "            binary_accuracy_value = model.accuracy(pred, outputs_batch)\n",
        "            \n",
        "            loss_value.backward()\n",
        "            optimizer.step()\n",
        "            optimizer.zero_grad()\n",
        "    \n",
        "    return binary_accuracy_value.item()\n",
        "\n",
        "# Test different feature combinations\n",
        "feature_names = ['x1', 'x2', 'x1_x2_sum', 'x1_x2_product', 'x1_squared', 'x2_squared']\n",
        "results = []\n",
        "\n",
        "for num_features in range(2, 6):\n",
        "    for feature_comb in combinations(range(6), num_features):\n",
        "        accuracy = train_and_evaluate(feature_comb, num_features//2)\n",
        "        results.append((feature_comb, accuracy))\n",
        "\n",
        "\n",
        "results.sort(key=lambda x: x[1], reverse=True)\n",
        "\n",
        "\n",
        "results_df = pd.DataFrame([(tuple(feature_names[i] for i in comb), acc) for comb, acc in results], columns=[\"Feature Combination\", \"Accuracy\"])\n",
        "print(results_df)\n",
        "\n",
        "results_df.to_excel('results_experiment_2.xlsx', index=False)\n"
      ]
    },
    {
      "cell_type": "code",
      "execution_count": null,
      "id": "16743318",
      "metadata": {},
      "outputs": [],
      "source": []
    }
  ],
  "metadata": {
    "colab": {
      "provenance": []
    },
    "kernelspec": {
      "display_name": "Python 3",
      "name": "python3"
    },
    "language_info": {
      "codemirror_mode": {
        "name": "ipython",
        "version": 3
      },
      "file_extension": ".py",
      "mimetype": "text/x-python",
      "name": "python",
      "nbconvert_exporter": "python",
      "pygments_lexer": "ipython3",
      "version": "3.10.12"
    }
  },
  "nbformat": 4,
  "nbformat_minor": 5
}
