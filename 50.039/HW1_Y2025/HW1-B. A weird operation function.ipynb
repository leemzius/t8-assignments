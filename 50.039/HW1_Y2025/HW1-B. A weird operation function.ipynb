{
 "cells": [
  {
   "cell_type": "markdown",
   "id": "a1afe191-5213-431c-8f47-a0502c1670c5",
   "metadata": {},
   "source": [
    "# HW1-B. A weird operation function\n",
    "\n",
    "## About this notebook\n",
    "\n",
    "This notebook was used in the 50.039 Deep Learning course at the Singapore University of Technology and Design.\n",
    "\n",
    "**Author:** Matthieu DE MARI (matthieu_demari@sutd.edu.sg)\n",
    "\n",
    "**Version:** 1.0 (01/02/2025)\n",
    "\n",
    "**Requirements:**\n",
    "- Python 3\n",
    "- Matplotlib\n",
    "- Numpy\n",
    "- Pandas\n",
    "- Torch\n",
    "- Torchmetrics"
   ]
  },
  {
   "cell_type": "markdown",
   "id": "1d9dd5db-658b-4b9c-8e8b-25f6710a791b",
   "metadata": {},
   "source": [
    "## 0. Imports and CUDA"
   ]
  },
  {
   "cell_type": "code",
   "execution_count": 1,
   "id": "c4599aff-3fcc-42ef-b3c1-512ac2ed80dc",
   "metadata": {},
   "outputs": [
    {
     "name": "stderr",
     "output_type": "stream",
     "text": [
      "C:\\Users\\matth\\AppData\\Local\\Programs\\Python\\Python313\\Lib\\site-packages\\tqdm\\auto.py:21: TqdmWarning: IProgress not found. Please update jupyter and ipywidgets. See https://ipywidgets.readthedocs.io/en/stable/user_install.html\n",
      "  from .autonotebook import tqdm as notebook_tqdm\n"
     ]
    }
   ],
   "source": [
    "# Matplotlib\n",
    "import matplotlib.pyplot as plt\n",
    "from matplotlib.lines import Line2D\n",
    "# Numpy\n",
    "import numpy as np\n",
    "# Pandas\n",
    "import pandas as pd\n",
    "# Torch\n",
    "import torch\n",
    "import torch.nn as nn\n",
    "from torch.utils.data import Dataset, DataLoader\n",
    "from torchmetrics.classification import BinaryAccuracy\n",
    "# Helper functions (additional file)\n",
    "from helper_functions import *\n",
    "#from hidden_functions import *"
   ]
  },
  {
   "cell_type": "code",
   "execution_count": 2,
   "id": "4604b237-ac58-4c0d-a041-1dcb704972e9",
   "metadata": {
    "is_executing": true
   },
   "outputs": [
    {
     "name": "stdout",
     "output_type": "stream",
     "text": [
      "cuda\n"
     ]
    }
   ],
   "source": [
    "# Use GPU if available, else use CPU\n",
    "device = torch.device(\"cuda\" if torch.cuda.is_available() else \"cpu\")\n",
    "print(device)"
   ]
  },
  {
   "cell_type": "markdown",
   "id": "c7c6f6fe-27e3-4fc5-94a4-1d94b135e85c",
   "metadata": {},
   "source": [
    "## 4. Writing a custom operation function\n",
    "\n",
    "In this section, we will consider a weird operation function $ f(x) $, whose behavior is decribed as:\n",
    "\n",
    "$$ f(x) = w \\cdot x + b + \\alpha \\cdot \\tanh(w' \\cdot x + b') $$\n",
    "\n",
    "Where $ w $ and $ b $  are the weights and biases learned through the nn.Linear layer, representing the linear transformation $w \\cdot x + b$. $ \\alpha $ is a trainable scalar parameter, initialized to 0.5, and can be adjusted during the training process. $tanh$ is the hyperbolic tangent activation function, which is used to apply the activation after passing $x$ through a similar linear transformation $w' \\cdot x + b'$.\n",
    "\n",
    "\n",
    "**Question 7:** In the code below, we will define a *WeirdLayer* object, implementing our operation function. As before, there are a few None variables that probably need to be replaced. Show your code for the *WeirdLayer* object in your report. You should probably use the *torch.tanh(x)* function in your implementation."
   ]
  },
  {
   "cell_type": "code",
   "execution_count": 3,
   "id": "6698dd22-bc43-4398-9405-0f1cd7c943de",
   "metadata": {},
   "outputs": [],
   "source": [
    "class WeirdLayer(nn.Module):\n",
    "    def __init__(self, input_dim, output_dim, alpha_init=0.5):\n",
    "        super().__init__()\n",
    "        self.linear = None \n",
    "        self.alpha = None\n",
    "        self.fc_for_tanh = None \n",
    "\n",
    "    def forward(self, x): \n",
    "        return None"
   ]
  },
  {
   "cell_type": "markdown",
   "id": "5f50e3111eb0e75d",
   "metadata": {
    "collapsed": false,
    "jupyter": {
     "outputs_hidden": false
    }
   },
   "source": [
    "**Question 8:** Is the gradient of WeirdLayer with respect to $ \\alpha $ computable?"
   ]
  },
  {
   "cell_type": "markdown",
   "id": "6ad6dd2e-2048-4c70-91f3-6fe414f2651e",
   "metadata": {},
   "source": [
    "You may use the fucntion *test_act_object()* below, which will produce a few test cases for your *WeirdActivation* object. As before, if you have correctly figured out the code to use in Question 8, you will be able to pass all test cases."
   ]
  },
  {
   "cell_type": "code",
   "execution_count": 4,
   "id": "99f7db92-e8d0-42e5-b91e-0162f408a473",
   "metadata": {},
   "outputs": [],
   "source": [
    "# Define our weird operation function\n",
    "act_fun = WeirdLayer(input_dim = 2, output_dim = 10)"
   ]
  },
  {
   "cell_type": "code",
   "execution_count": 5,
   "id": "1a6b4e97-df63-4388-860f-eb22a91beeae",
   "metadata": {},
   "outputs": [
    {
     "name": "stdout",
     "output_type": "stream",
     "text": [
      "--- Test case (activation function): Checking for correct output shape.\n",
      "Testing forward on a Tensor of values.\n",
      "Retrieved shape: torch.Size([1, 10])\n",
      "Expected shape: (1, 10)\n",
      "Test case result: Passed\n"
     ]
    }
   ],
   "source": [
    "# Running test function for our operation function object\n",
    "test_act_object(act_fun)"
   ]
  },
  {
   "cell_type": "markdown",
   "id": "80b9c2af-f628-4511-8130-ad212d1e3328",
   "metadata": {},
   "source": [
    "**Question 9:** How does this layer differ from a standard fully connected layer?"
   ]
  },
  {
   "cell_type": "markdown",
   "id": "d944177e-6415-4533-ba6b-e5e31a439d63",
   "metadata": {},
   "source": [
    "## What is next?\n",
    "\n",
    "Our task continues in the Notebook 1-C."
   ]
  }
 ],
 "metadata": {
  "kernelspec": {
   "display_name": "Python 3 (ipykernel)",
   "language": "python",
   "name": "python3"
  },
  "language_info": {
   "codemirror_mode": {
    "name": "ipython",
    "version": 3
   },
   "file_extension": ".py",
   "mimetype": "text/x-python",
   "name": "python",
   "nbconvert_exporter": "python",
   "pygments_lexer": "ipython3",
   "version": "3.13.1"
  }
 },
 "nbformat": 4,
 "nbformat_minor": 5
}
