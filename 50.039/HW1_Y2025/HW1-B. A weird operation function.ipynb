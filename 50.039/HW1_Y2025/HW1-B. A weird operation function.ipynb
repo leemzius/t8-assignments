{
  "cells": [
    {
      "cell_type": "markdown",
      "id": "a1afe191-5213-431c-8f47-a0502c1670c5",
      "metadata": {
        "id": "a1afe191-5213-431c-8f47-a0502c1670c5"
      },
      "source": [
        "# HW1-B. A weird operation function\n",
        "\n",
        "## About this notebook\n",
        "\n",
        "This notebook was used in the 50.039 Deep Learning course at the Singapore University of Technology and Design.\n",
        "\n",
        "**Author:** Matthieu DE MARI (matthieu_demari@sutd.edu.sg)\n",
        "\n",
        "**Version:** 1.0 (01/02/2025)\n",
        "\n",
        "**Requirements:**\n",
        "- Python 3\n",
        "- Matplotlib\n",
        "- Numpy\n",
        "- Pandas\n",
        "- Torch\n",
        "- Torchmetrics"
      ]
    },
    {
      "cell_type": "markdown",
      "id": "1d9dd5db-658b-4b9c-8e8b-25f6710a791b",
      "metadata": {
        "id": "1d9dd5db-658b-4b9c-8e8b-25f6710a791b"
      },
      "source": [
        "## 0. Imports and CUDA"
      ]
    },
    {
      "cell_type": "code",
      "source": [
        "%%capture\n",
        "! pip install torchmetrics"
      ],
      "metadata": {
        "id": "GtavfNnI0ajH"
      },
      "id": "GtavfNnI0ajH",
      "execution_count": 1,
      "outputs": []
    },
    {
      "cell_type": "code",
      "execution_count": 2,
      "id": "c4599aff-3fcc-42ef-b3c1-512ac2ed80dc",
      "metadata": {
        "id": "c4599aff-3fcc-42ef-b3c1-512ac2ed80dc"
      },
      "outputs": [],
      "source": [
        "# Matplotlib\n",
        "import matplotlib.pyplot as plt\n",
        "from matplotlib.lines import Line2D\n",
        "# Numpy\n",
        "import numpy as np\n",
        "# Pandas\n",
        "import pandas as pd\n",
        "# Torch\n",
        "import torch\n",
        "import torch.nn as nn\n",
        "from torch.utils.data import Dataset, DataLoader\n",
        "from torchmetrics.classification import BinaryAccuracy\n",
        "# Helper functions (additional file)\n",
        "from helper_functions import *\n",
        "#from hidden_functions import *"
      ]
    },
    {
      "cell_type": "code",
      "execution_count": 3,
      "id": "4604b237-ac58-4c0d-a041-1dcb704972e9",
      "metadata": {
        "is_executing": true,
        "id": "4604b237-ac58-4c0d-a041-1dcb704972e9",
        "outputId": "53384200-8a9c-4fe0-b9af-21308a6aca1b",
        "colab": {
          "base_uri": "https://localhost:8080/"
        }
      },
      "outputs": [
        {
          "output_type": "stream",
          "name": "stdout",
          "text": [
            "cpu\n"
          ]
        }
      ],
      "source": [
        "# Use GPU if available, else use CPU\n",
        "device = torch.device(\"cuda\" if torch.cuda.is_available() else \"cpu\")\n",
        "print(device)"
      ]
    },
    {
      "cell_type": "markdown",
      "id": "c7c6f6fe-27e3-4fc5-94a4-1d94b135e85c",
      "metadata": {
        "id": "c7c6f6fe-27e3-4fc5-94a4-1d94b135e85c"
      },
      "source": [
        "## 4. Writing a custom operation function\n",
        "\n",
        "In this section, we will consider a weird operation function $ f(x) $, whose behavior is decribed as:\n",
        "\n",
        "$$ f(x) = w \\cdot x + b + \\alpha \\cdot \\tanh(w' \\cdot x + b') $$\n",
        "\n",
        "Where $ w $ and $ b $  are the weights and biases learned through the nn.Linear layer, representing the linear transformation $w \\cdot x + b$. $ \\alpha $ is a trainable scalar parameter, initialized to 0.5, and can be adjusted during the training process. $tanh$ is the hyperbolic tangent activation function, which is used to apply the activation after passing $x$ through a similar linear transformation $w' \\cdot x + b'$.\n",
        "\n",
        "\n",
        "**Question 7:** In the code below, we will define a *WeirdLayer* object, implementing our operation function. As before, there are a few None variables that probably need to be replaced. Show your code for the *WeirdLayer* object in your report. You should probably use the *torch.tanh(x)* function in your implementation."
      ]
    },
    {
      "cell_type": "code",
      "execution_count": 4,
      "id": "6698dd22-bc43-4398-9405-0f1cd7c943de",
      "metadata": {
        "id": "6698dd22-bc43-4398-9405-0f1cd7c943de"
      },
      "outputs": [],
      "source": [
        "class WeirdLayer(nn.Module):\n",
        "    def __init__(self, input_dim, output_dim, alpha_init=0.5):\n",
        "        super().__init__()\n",
        "        self.linear = nn.Linear(input_dim, output_dim)\n",
        "        self.alpha = nn.Parameter(torch.tensor(alpha_init, dtype=torch.float32))\n",
        "        self.fc_for_tanh = nn.Linear(input_dim, output_dim)\n",
        "\n",
        "    def forward(self, x):\n",
        "      linear_output = self.linear(x)\n",
        "      tanh_output = torch.tanh(self.fc_for_tanh(x))\n",
        "      return linear_output + self.alpha * tanh_output"
      ]
    },
    {
      "cell_type": "markdown",
      "id": "5f50e3111eb0e75d",
      "metadata": {
        "collapsed": false,
        "jupyter": {
          "outputs_hidden": false
        },
        "id": "5f50e3111eb0e75d"
      },
      "source": [
        "**Question 8:** Is the gradient of WeirdLayer with respect to $ \\alpha $ computable?"
      ]
    },
    {
      "cell_type": "markdown",
      "id": "6ad6dd2e-2048-4c70-91f3-6fe414f2651e",
      "metadata": {
        "id": "6ad6dd2e-2048-4c70-91f3-6fe414f2651e"
      },
      "source": [
        "You may use the fucntion *test_act_object()* below, which will produce a few test cases for your *WeirdActivation* object. As before, if you have correctly figured out the code to use in Question 8, you will be able to pass all test cases."
      ]
    },
    {
      "cell_type": "code",
      "execution_count": 5,
      "id": "99f7db92-e8d0-42e5-b91e-0162f408a473",
      "metadata": {
        "id": "99f7db92-e8d0-42e5-b91e-0162f408a473"
      },
      "outputs": [],
      "source": [
        "# Define our weird operation function\n",
        "act_fun = WeirdLayer(input_dim = 2, output_dim = 10)"
      ]
    },
    {
      "cell_type": "code",
      "execution_count": 6,
      "id": "1a6b4e97-df63-4388-860f-eb22a91beeae",
      "metadata": {
        "id": "1a6b4e97-df63-4388-860f-eb22a91beeae",
        "outputId": "20a42033-58ea-4dea-c3bd-f7f8ef5d63c2",
        "colab": {
          "base_uri": "https://localhost:8080/"
        }
      },
      "outputs": [
        {
          "output_type": "stream",
          "name": "stdout",
          "text": [
            "--- Test case (activation function): Checking for correct output shape.\n",
            "Testing forward on a Tensor of values.\n",
            "Retrieved shape: torch.Size([1, 10])\n",
            "Expected shape: (1, 10)\n",
            "Test case result: Passed\n"
          ]
        }
      ],
      "source": [
        "# Running test function for our operation function object\n",
        "test_act_object(act_fun)"
      ]
    },
    {
      "cell_type": "markdown",
      "id": "80b9c2af-f628-4511-8130-ad212d1e3328",
      "metadata": {
        "id": "80b9c2af-f628-4511-8130-ad212d1e3328"
      },
      "source": [
        "**Question 9:** How does this layer differ from a standard fully connected layer?\n",
        "\n",
        "**ANSWER 9:**\n",
        "A standard fully connected layer implements the function f(x) = wx + b. The WeirdLayer however implements both linear and non-linear components. This creates a adjustable non-linearity in the layer. The α parameter controls how much the non-linear tanh component contributes. When α is close to 0, the layer might behave more like a standard linear layer. When α is larger, the non-linear effects might be stronger."
      ]
    },
    {
      "cell_type": "markdown",
      "id": "d944177e-6415-4533-ba6b-e5e31a439d63",
      "metadata": {
        "id": "d944177e-6415-4533-ba6b-e5e31a439d63"
      },
      "source": [
        "## What is next?\n",
        "\n",
        "Our task continues in the Notebook 1-C."
      ]
    }
  ],
  "metadata": {
    "kernelspec": {
      "display_name": "Python 3",
      "name": "python3"
    },
    "language_info": {
      "codemirror_mode": {
        "name": "ipython",
        "version": 3
      },
      "file_extension": ".py",
      "mimetype": "text/x-python",
      "name": "python",
      "nbconvert_exporter": "python",
      "pygments_lexer": "ipython3",
      "version": "3.13.1"
    },
    "colab": {
      "provenance": []
    }
  },
  "nbformat": 4,
  "nbformat_minor": 5
}